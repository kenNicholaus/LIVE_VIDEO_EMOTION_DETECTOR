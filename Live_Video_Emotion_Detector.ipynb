{
 "cells": [
  {
   "cell_type": "markdown",
   "metadata": {},
   "source": [
    "# LIVE VIDEO EMOTION DETECTION\n",
    "This notebook uses a pre-trained model in KERAS for emotion detection in a live video."
   ]
  },
  {
   "cell_type": "code",
   "execution_count": 1,
   "metadata": {},
   "outputs": [
    {
     "name": "stderr",
     "output_type": "stream",
     "text": [
      "Using TensorFlow backend.\n"
     ]
    }
   ],
   "source": [
    "import os\n",
    "import cv2\n",
    "import numpy as np\n",
    "from keras.models import model_from_json\n",
    "from keras.preprocessing import image"
   ]
  },
  {
   "cell_type": "markdown",
   "metadata": {},
   "source": [
    "# LOAD MODEL, WEIGHTS, Face Classifier"
   ]
  },
  {
   "cell_type": "code",
   "execution_count": 4,
   "metadata": {},
   "outputs": [],
   "source": [
    "#load model confiquration\n",
    "model = model_from_json(open(\"configuration.json\", \"r\").read())\n",
    "\n",
    "\n",
    "#load weights\n",
    "model.load_weights('weights.h5')\n",
    "\n",
    "#load face classifier\n",
    "face_haar_cascade = cv2.CascadeClassifier('haarcascade_frontalface_default.xml')\n"
   ]
  },
  {
   "cell_type": "markdown",
   "metadata": {},
   "source": [
    "# LIVE EMOTION DETECTION"
   ]
  },
  {
   "cell_type": "code",
   "execution_count": 5,
   "metadata": {},
   "outputs": [],
   "source": [
    "def main():\n",
    "    cap=cv2.VideoCapture(0)\n",
    "\n",
    "    while True:\n",
    "        ret,test_img=cap.read()# captures frame and returns boolean value and captured image\n",
    "        if not ret:\n",
    "            continue\n",
    "        gray_img= cv2.cvtColor(test_img, cv2.COLOR_BGR2GRAY)\n",
    "\n",
    "        faces_detected = face_haar_cascade.detectMultiScale(gray_img, 1.32, 5)\n",
    "\n",
    "\n",
    "        for (x,y,w,h) in faces_detected:\n",
    "            cv2.rectangle(test_img,(x,y),(x+w,y+h),(255,0,0),thickness=7)\n",
    "            roi_gray=gray_img[y:y+w,x:x+h]#cropping region of interest i.e. face area from  image\n",
    "            roi_gray=cv2.resize(roi_gray,(48,48))\n",
    "            img_pixels = image.img_to_array(roi_gray)\n",
    "            img_pixels = np.expand_dims(img_pixels, axis = 0)\n",
    "            img_pixels /= 255\n",
    "\n",
    "            predictions = model.predict(img_pixels)\n",
    "\n",
    "            #find max indexed array\n",
    "            max_index = np.argmax(predictions[0])\n",
    "\n",
    "            emotions = ('angry', 'disgust', 'fear', 'happy', 'sad', 'surprise', 'neutral')\n",
    "            predicted_emotion = emotions[max_index]\n",
    "\n",
    "            cv2.putText(test_img, predicted_emotion, (int(x), int(y)), cv2.FONT_HERSHEY_SIMPLEX, 1, (0,0,255), 2)\n",
    "\n",
    "        resized_img = cv2.resize(test_img, (1000, 700))\n",
    "        cv2.imshow('Facial emotion analysis ',resized_img)\n",
    "\n",
    "        if cv2.waitKey(25) & 0xFF == 27: #press escape key to break\n",
    "            #lower the number 25 if you have a slower computer.\n",
    "            cv2.destroyAllWindows()\n",
    "            cap.release()\n",
    "            break\n",
    "if __name__ == '__main__':\n",
    "    main()"
   ]
  }
 ],
 "metadata": {
  "kernelspec": {
   "display_name": "Python [conda env:opencv3]",
   "language": "python",
   "name": "conda-env-opencv3-py"
  },
  "language_info": {
   "codemirror_mode": {
    "name": "ipython",
    "version": 3
   },
   "file_extension": ".py",
   "mimetype": "text/x-python",
   "name": "python",
   "nbconvert_exporter": "python",
   "pygments_lexer": "ipython3",
   "version": "3.5.5"
  }
 },
 "nbformat": 4,
 "nbformat_minor": 2
}
